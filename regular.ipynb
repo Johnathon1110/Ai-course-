{
 "cells": [
  {
   "cell_type": "code",
   "execution_count": 25,
   "id": "58967b96-9ea8-4d7b-91ae-155693d19ba9",
   "metadata": {},
   "outputs": [],
   "source": [
    "import re"
   ]
  },
  {
   "cell_type": "code",
   "execution_count": 27,
   "id": "1bcf5be2-9b25-45bc-afd8-ef42530021cd",
   "metadata": {},
   "outputs": [],
   "source": [
    "with open(r\"G:\\task.txt\",\"r\") as f:\n",
    " text = (f.read())"
   ]
  },
  {
   "cell_type": "code",
   "execution_count": 29,
   "id": "86687914-22df-48f2-a198-bc575c0126ec",
   "metadata": {},
   "outputs": [
    {
     "name": "stdout",
     "output_type": "stream",
     "text": [
      "names list: ['John Yousef', 'Yousef Anwar', 'Ahmed Hafez', 'Ali Osama', 'Fady Hany', 'Amro Ahmed']\n"
     ]
    }
   ],
   "source": [
    "def find_match(pattern,mytext):\n",
    "    pattern = re.compile(pattern)\n",
    "    matches = pattern.finditer(text)\n",
    "    names = []\n",
    "    for match in matches:\n",
    "        names.append(text[match.span()[0] : match.span()[1]])\n",
    "    print(\"names list:\" , names)\n",
    "find_match( r'[A-Z][a-z]+\\s[A-Z][a-z]+', text)"
   ]
  },
  {
   "cell_type": "code",
   "execution_count": 31,
   "id": "84dd7a19-ca6e-42e2-852b-dfe86347b904",
   "metadata": {},
   "outputs": [
    {
     "name": "stdout",
     "output_type": "stream",
     "text": [
      "numbers list: ['01270760715', '01225511567', '01023456784', '01243423420', '01225518970', '01554989670']\n"
     ]
    }
   ],
   "source": [
    "pattern = re.compile(r'01[0-9]{9}')\n",
    "matches = pattern.finditer(text)\n",
    "numbers = []\n",
    "for match in matches:\n",
    "    numbers.append(text[match.span()[0] : match.span()[1]])\n",
    "print(\"numbers list:\" , numbers)"
   ]
  },
  {
   "cell_type": "code",
   "execution_count": 39,
   "id": "ae750ca8-7f07-479f-9815-39e305bfff59",
   "metadata": {},
   "outputs": [
    {
     "name": "stdout",
     "output_type": "stream",
     "text": [
      "emails list: ['johnyousef003@gmail.com', 'yousefyo004@gmail.com', 'ahmed@gmail.com', 'ali@gmail.com', 'foda@gmail.com', 'amor@gmail.com']\n"
     ]
    }
   ],
   "source": [
    "pattern = re.compile(r'[a-zA-Z0-9]+@[a-zA-Z]+\\.(com|edu|net)')\n",
    "matches = pattern.finditer(text)\n",
    "emails = []\n",
    "for match in matches:\n",
    "    emails.append(text[match.span()[0] : match.span()[1]])\n",
    "print(\"emails list:\" , emails)"
   ]
  },
  {
   "cell_type": "code",
   "execution_count": null,
   "id": "8b41d3ad-4fd2-4f44-9d1c-9d0d1c967921",
   "metadata": {},
   "outputs": [],
   "source": []
  }
 ],
 "metadata": {
  "kernelspec": {
   "display_name": "Python [conda env:round33]",
   "language": "python",
   "name": "conda-env-round33-py"
  },
  "language_info": {
   "codemirror_mode": {
    "name": "ipython",
    "version": 3
   },
   "file_extension": ".py",
   "mimetype": "text/x-python",
   "name": "python",
   "nbconvert_exporter": "python",
   "pygments_lexer": "ipython3",
   "version": "3.13.2"
  }
 },
 "nbformat": 4,
 "nbformat_minor": 5
}
