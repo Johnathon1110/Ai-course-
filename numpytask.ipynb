{
 "cells": [
  {
   "cell_type": "code",
   "execution_count": 2,
   "id": "7096849d-7f9a-49a6-9a8c-7b61fa6d61ec",
   "metadata": {
    "scrolled": true
   },
   "outputs": [
    {
     "name": "stdout",
     "output_type": "stream",
     "text": [
      "Numpy version: 2.2.5\n",
      "Build Dependencies:\n",
      "  blas:\n",
      "    detection method: pkgconfig\n",
      "    found: true\n",
      "    include directory: C:/Users/runneradmin/AppData/Local/Temp/cibw-run-065080rt/cp313-win_amd64/build/venv/Lib/site-packages/scipy_openblas64/include\n",
      "    lib directory: C:/Users/runneradmin/AppData/Local/Temp/cibw-run-065080rt/cp313-win_amd64/build/venv/Lib/site-packages/scipy_openblas64/lib\n",
      "    name: scipy-openblas\n",
      "    openblas configuration: OpenBLAS 0.3.28  USE64BITINT DYNAMIC_ARCH NO_AFFINITY\n",
      "      Haswell MAX_THREADS=24\n",
      "    pc file directory: D:/a/numpy/numpy/.openblas\n",
      "    version: 0.3.28\n",
      "  lapack:\n",
      "    detection method: pkgconfig\n",
      "    found: true\n",
      "    include directory: C:/Users/runneradmin/AppData/Local/Temp/cibw-run-065080rt/cp313-win_amd64/build/venv/Lib/site-packages/scipy_openblas64/include\n",
      "    lib directory: C:/Users/runneradmin/AppData/Local/Temp/cibw-run-065080rt/cp313-win_amd64/build/venv/Lib/site-packages/scipy_openblas64/lib\n",
      "    name: scipy-openblas\n",
      "    openblas configuration: OpenBLAS 0.3.28  USE64BITINT DYNAMIC_ARCH NO_AFFINITY\n",
      "      Haswell MAX_THREADS=24\n",
      "    pc file directory: D:/a/numpy/numpy/.openblas\n",
      "    version: 0.3.28\n",
      "Compilers:\n",
      "  c:\n",
      "    commands: cl\n",
      "    linker: link\n",
      "    name: msvc\n",
      "    version: 19.29.30159\n",
      "  c++:\n",
      "    commands: cl\n",
      "    linker: link\n",
      "    name: msvc\n",
      "    version: 19.29.30159\n",
      "  cython:\n",
      "    commands: cython\n",
      "    linker: cython\n",
      "    name: cython\n",
      "    version: 3.0.12\n",
      "Machine Information:\n",
      "  build:\n",
      "    cpu: x86_64\n",
      "    endian: little\n",
      "    family: x86_64\n",
      "    system: windows\n",
      "  host:\n",
      "    cpu: x86_64\n",
      "    endian: little\n",
      "    family: x86_64\n",
      "    system: windows\n",
      "Python Information:\n",
      "  path: C:\\Users\\runneradmin\\AppData\\Local\\Temp\\build-env-19lia66t\\Scripts\\python.exe\n",
      "  version: '3.13'\n",
      "SIMD Extensions:\n",
      "  baseline:\n",
      "  - SSE\n",
      "  - SSE2\n",
      "  - SSE3\n",
      "  found:\n",
      "  - SSSE3\n",
      "  - SSE41\n",
      "  - POPCNT\n",
      "  - SSE42\n",
      "  - AVX\n",
      "  - F16C\n",
      "  - FMA3\n",
      "  - AVX2\n",
      "  not found:\n",
      "  - AVX512F\n",
      "  - AVX512CD\n",
      "  - AVX512_SKX\n",
      "  - AVX512_CLX\n",
      "  - AVX512_CNL\n",
      "  - AVX512_ICL\n",
      "\n"
     ]
    }
   ],
   "source": [
    "# Q1\n",
    "import numpy as np\n",
    "print(\"Numpy version:\", np.__version__)\n",
    "np.show_config()"
   ]
  },
  {
   "cell_type": "code",
   "execution_count": 2,
   "id": "b42b7216-98f0-476f-b707-754958eb330d",
   "metadata": {
    "scrolled": true
   },
   "outputs": [
    {
     "name": "stdout",
     "output_type": "stream",
     "text": [
      "add(x1, x2, /, out=None, *, where=True, casting='same_kind', order='K', dtype=None, subok=True[, signature])\n",
      "\n",
      "Add arguments element-wise.\n",
      "\n",
      "Parameters\n",
      "----------\n",
      "x1, x2 : array_like\n",
      "    The arrays to be added.\n",
      "    If ``x1.shape != x2.shape``, they must be broadcastable to a common\n",
      "    shape (which becomes the shape of the output).\n",
      "out : ndarray, None, or tuple of ndarray and None, optional\n",
      "    A location into which the result is stored. If provided, it must have\n",
      "    a shape that the inputs broadcast to. If not provided or None,\n",
      "    a freshly-allocated array is returned. A tuple (possible only as a\n",
      "    keyword argument) must have length equal to the number of outputs.\n",
      "where : array_like, optional\n",
      "    This condition is broadcast over the input. At locations where the\n",
      "    condition is True, the `out` array will be set to the ufunc result.\n",
      "    Elsewhere, the `out` array will retain its original value.\n",
      "    Note that if an uninitialized `out` array is created via the default\n",
      "    ``out=None``, locations within it where the condition is False will\n",
      "    remain uninitialized.\n",
      "**kwargs\n",
      "    For other keyword-only arguments, see the\n",
      "    :ref:`ufunc docs <ufuncs.kwargs>`.\n",
      "\n",
      "Returns\n",
      "-------\n",
      "add : ndarray or scalar\n",
      "    The sum of `x1` and `x2`, element-wise.\n",
      "    This is a scalar if both `x1` and `x2` are scalars.\n",
      "\n",
      "Notes\n",
      "-----\n",
      "Equivalent to `x1` + `x2` in terms of array broadcasting.\n",
      "\n",
      "Examples\n",
      "--------\n",
      ">>> import numpy as np\n",
      ">>> np.add(1.0, 4.0)\n",
      "5.0\n",
      ">>> x1 = np.arange(9.0).reshape((3, 3))\n",
      ">>> x2 = np.arange(3.0)\n",
      ">>> np.add(x1, x2)\n",
      "array([[  0.,   2.,   4.],\n",
      "       [  3.,   5.,   7.],\n",
      "       [  6.,   8.,  10.]])\n",
      "\n",
      "The ``+`` operator can be used as a shorthand for ``np.add`` on ndarrays.\n",
      "\n",
      ">>> x1 = np.arange(9.0).reshape((3, 3))\n",
      ">>> x2 = np.arange(3.0)\n",
      ">>> x1 + x2\n",
      "array([[ 0.,  2.,  4.],\n",
      "       [ 3.,  5.,  7.],\n",
      "       [ 6.,  8., 10.]])\n",
      "None\n"
     ]
    }
   ],
   "source": [
    "#Q2\n",
    "print(np.info(np.add))"
   ]
  },
  {
   "cell_type": "code",
   "execution_count": 3,
   "id": "ce7e0485-e413-4293-b356-0be27b20f364",
   "metadata": {},
   "outputs": [
    {
     "name": "stdout",
     "output_type": "stream",
     "text": [
      "[1 2 3 5] Test if none of the elements of the said array is zero: True\n",
      "[1 5 0 6] Test if none of the elements of the said array is zero: False\n"
     ]
    }
   ],
   "source": [
    "#Q3\n",
    "arr = np.array([1,2,3,5])\n",
    "print(arr, \"Test if none of the elements of the said array is zero:\", np.all(arr))\n",
    "arr = np.array([1,5,0,6])\n",
    "print(arr, \"Test if none of the elements of the said array is zero:\", np.all(arr))"
   ]
  },
  {
   "cell_type": "code",
   "execution_count": 4,
   "id": "149bbf63-2976-463f-a285-e381d474062f",
   "metadata": {},
   "outputs": [
    {
     "name": "stdout",
     "output_type": "stream",
     "text": [
      "[1 5 0 0] Test whether any of the elements of a given array is non-zero: True\n",
      "[0 0 0 0] Test whether any of the elements of a given array is non-zero: False\n"
     ]
    }
   ],
   "source": [
    "#Q4\n",
    "arr = np.array([1,5,0,0])\n",
    "print(arr , \"Test whether any of the elements of a given array is non-zero:\" , np.any(arr))\n",
    "arr = np.array([0,0,0,0])\n",
    "print(arr , \"Test whether any of the elements of a given array is non-zero:\" , np.any(arr))"
   ]
  },
  {
   "cell_type": "code",
   "execution_count": 13,
   "id": "f7724715-24c8-4ea3-8966-c39280f965e1",
   "metadata": {},
   "outputs": [
    {
     "name": "stdout",
     "output_type": "stream",
     "text": [
      "Original array:  [  5.   6.   0.  inf -inf  nan]\n",
      "the array after test [ True  True  True False False False]\n"
     ]
    }
   ],
   "source": [
    "#Q5\n",
    "arr = np.array([5, 6, 0, np.inf, -np.inf, np.nan])\n",
    "print(\"Original array: \", arr)\n",
    "print(\"the array after test\",  np.isfinite(arr))"
   ]
  },
  {
   "cell_type": "code",
   "execution_count": 19,
   "id": "81d8fc25-90eb-4052-8292-e9180100495a",
   "metadata": {},
   "outputs": [
    {
     "name": "stdout",
     "output_type": "stream",
     "text": [
      "[False  True False False  True]\n"
     ]
    }
   ],
   "source": [
    "#Q6\n",
    "arr = np.array([5, np.nan, 7.5, np.inf, np.nan])\n",
    "print(np.isnan(arr))"
   ]
  },
  {
   "cell_type": "code",
   "execution_count": 27,
   "id": "dccb9cb5-a802-4f00-ba79-432d40f2961c",
   "metadata": {},
   "outputs": [
    {
     "name": "stdout",
     "output_type": "stream",
     "text": [
      "Checking for complex number: [False False False  True  True]\n",
      "Checking for real number: [ True  True  True False False]\n",
      "Is x scalar? True\n",
      "Is x scalar? False\n"
     ]
    }
   ],
   "source": [
    "#Q7\n",
    "arr = np.array([5, 7, 4.5, 3+5j, 2+4j])\n",
    "print(\"Checking for complex number:\", np.iscomplex(arr))\n",
    "print(\"Checking for real number:\", np.isreal(arr))\n",
    "x=45\n",
    "print(\"Is x scalar?\", np.isscalar(x))\n",
    "y=np.array([2])\n",
    "print(\"Is x scalar?\", np.isscalar(y))"
   ]
  },
  {
   "cell_type": "code",
   "execution_count": 51,
   "id": "0d1a53e9-5883-4677-8226-86d3f95f5fe2",
   "metadata": {},
   "outputs": [
    {
     "name": "stdout",
     "output_type": "stream",
     "text": [
      "Test if two arrays are element-wise equal within a tolerance:\n",
      "True\n",
      "False\n",
      "True\n",
      "False\n",
      "True\n"
     ]
    }
   ],
   "source": [
    "#Q8\n",
    "print(\"Test if two arrays are element-wise equal within a tolerance:\")\n",
    "print(np.allclose([15.0055,10.000006],[15.0056,10.00000]))\n",
    "print(np.allclose([10e10,1e-7],[10.00e10,1e-8]))\n",
    "print(np.allclose([1e10,1e-8], [1.00001e10,1e-9]))\n",
    "print(np.allclose([1.0, np.nan], [1.0, np.nan]))\n",
    "print(np.allclose([1.0, np.nan], [1.0, np.nan], equal_nan=True))"
   ]
  },
  {
   "cell_type": "code",
   "execution_count": 61,
   "id": "5ca00cb6-ee08-4143-a549-8662d6f38044",
   "metadata": {},
   "outputs": [
    {
     "name": "stdout",
     "output_type": "stream",
     "text": [
      "x > y: [False  True False]\n",
      "x >= y: [ True  True False]\n",
      "x < y: [False False  True]\n",
      "x <= y: [ True False  True]\n"
     ]
    }
   ],
   "source": [
    "#Q9\n",
    "x = np.array([5,3,4])\n",
    "y = np.array([5,1,7])\n",
    "print(\"x > y:\", np.greater(x,y))\n",
    "print(\"x >= y:\", np.greater_equal(x,y))\n",
    "print(\"x < y:\", np.less(x,y))\n",
    "print(\"x <= y:\", np.less_equal(x,y))"
   ]
  },
  {
   "cell_type": "code",
   "execution_count": 69,
   "id": "b1af4b9e-16bb-4e08-af6d-31d7a408a275",
   "metadata": {},
   "outputs": [
    {
     "name": "stdout",
     "output_type": "stream",
     "text": [
      "x=y: [ True  True  True  True  True  True False]\n",
      "equal within a tolerance: True\n"
     ]
    }
   ],
   "source": [
    "#Q10\n",
    "x = np.array([5,1,7,-55,92,78,10.00000001])\n",
    "y = np.array([5,1,7,-55,92,78,10])\n",
    "print(\"x=y:\" ,np.equal(x,y))\n",
    "print(\"equal within a tolerance:\", np.allclose(x,y))"
   ]
  },
  {
   "cell_type": "code",
   "execution_count": 89,
   "id": "4bb55d43-32f7-4805-b8a7-883ab8072ec3",
   "metadata": {},
   "outputs": [
    {
     "name": "stdout",
     "output_type": "stream",
     "text": [
      "Array:  [  1   7  13 105]\n",
      "32\n"
     ]
    }
   ],
   "source": [
    "#Q11\n",
    "arr = np.array([1, 7, 13, 105])\n",
    "print(\"Array: \",arr)\n",
    "print(arr.nbytes)"
   ]
  },
  {
   "cell_type": "code",
   "execution_count": 91,
   "id": "8950442c-a1fc-4045-bed6-cd2dd6871d27",
   "metadata": {},
   "outputs": [
    {
     "name": "stdout",
     "output_type": "stream",
     "text": [
      "Array of zeros: [0. 0. 0. 0. 0. 0. 0. 0. 0. 0.]\n",
      "Array of ones: [1. 1. 1. 1. 1. 1. 1. 1. 1. 1.]\n",
      "Array of fives: [5. 5. 5. 5. 5. 5. 5. 5. 5. 5.]\n"
     ]
    }
   ],
   "source": [
    "#Q12\n",
    "arr = np.zeros(10)\n",
    "print(\"Array of zeros:\" ,arr)\n",
    "arr = np.ones(10)\n",
    "print(\"Array of ones:\" ,arr)\n",
    "arr = np.ones(10) * 5\n",
    "print(\"Array of fives:\" ,arr)"
   ]
  },
  {
   "cell_type": "code",
   "execution_count": 127,
   "id": "975c1fb2-d5f4-42d2-be6f-49e828bc484c",
   "metadata": {},
   "outputs": [
    {
     "name": "stdout",
     "output_type": "stream",
     "text": [
      "Array of the integers from 30 to 70\n",
      "[30 31 32 33 34 35 36 37 38 39 40 41 42 43 44 45 46 47 48 49 50 51 52 53\n",
      " 54 55 56 57 58 59 60 61 62 63 64 65 66 67 68 69 70]\n"
     ]
    }
   ],
   "source": [
    "#Q13\n",
    "arr = np.arange(30,71)\n",
    "print(\"Array of the integers from 30 to 70\")\n",
    "print(arr)"
   ]
  },
  {
   "cell_type": "code",
   "execution_count": 129,
   "id": "f50ad65b-c931-4073-9ea6-2778f9374773",
   "metadata": {},
   "outputs": [
    {
     "name": "stdout",
     "output_type": "stream",
     "text": [
      "Array of the Evev integers from 30 to 70\n",
      "[30 32 34 36 38 40 42 44 46 48 50 52 54 56 58 60 62 64 66 68 70]\n"
     ]
    }
   ],
   "source": [
    "#Q15\n",
    "arr = np.arange(30,71,2)\n",
    "print(\"Array of the Evev integers from 30 to 70\")\n",
    "print(arr)"
   ]
  },
  {
   "cell_type": "code",
   "execution_count": 131,
   "id": "67732735-e2bd-42f2-ad9b-400f4cf80f1d",
   "metadata": {},
   "outputs": [
    {
     "name": "stdout",
     "output_type": "stream",
     "text": [
      "[[1. 0. 0.]\n",
      " [0. 1. 0.]\n",
      " [0. 0. 1.]]\n"
     ]
    }
   ],
   "source": [
    "#Q16\n",
    "arr = np.eye(3)\n",
    "print(arr)"
   ]
  },
  {
   "cell_type": "code",
   "execution_count": 133,
   "id": "382ccb96-db51-40b8-a817-e38cb8419dbc",
   "metadata": {},
   "outputs": [
    {
     "name": "stdout",
     "output_type": "stream",
     "text": [
      "[0.27916486]\n"
     ]
    }
   ],
   "source": [
    "#Q17\n",
    "arr = np.random.normal(0,1,1)\n",
    "print(arr)"
   ]
  },
  {
   "cell_type": "code",
   "execution_count": 135,
   "id": "92c71aea-780e-4731-9b09-59e28a4004e2",
   "metadata": {},
   "outputs": [
    {
     "name": "stdout",
     "output_type": "stream",
     "text": [
      "[-0.9615708  -1.2254322   0.15932446  0.68076712  0.16817958 -0.6467939\n",
      "  0.37614139 -0.93416568 -0.99533483 -1.18365429  0.88937668  0.3180593\n",
      " -0.20507546  1.43024279  0.40718575]\n"
     ]
    }
   ],
   "source": [
    "#Q18\n",
    "arr = np.random.normal(0,1,15)\n",
    "print(arr)"
   ]
  },
  {
   "cell_type": "code",
   "execution_count": 153,
   "id": "3d23b3f2-1897-4f7a-9bf5-e77f81040fda",
   "metadata": {},
   "outputs": [
    {
     "name": "stdout",
     "output_type": "stream",
     "text": [
      "All values except the first and last of the said vector:\n",
      "[16 17 18 19 20 21 22 23 24 25 26 27 28 29 30 31 32 33 34 35 36 37 38 39\n",
      " 40 41 42 43 44 45 46 47 48 49 50 51 52 53 54]\n"
     ]
    }
   ],
   "source": [
    "#Q19\n",
    "arr = np.arange(15,56)\n",
    "print(\"All values except the first and last of the said vector:\")\n",
    "print(arr[1:-1])"
   ]
  },
  {
   "cell_type": "code",
   "execution_count": 161,
   "id": "7155401e-894f-4616-bb9b-3207c4cf4511",
   "metadata": {},
   "outputs": [
    {
     "name": "stdout",
     "output_type": "stream",
     "text": [
      "3x4 Array:\n",
      "[[ 0  1  2  3]\n",
      " [ 4  5  6  7]\n",
      " [ 8  9 10 11]]\n",
      "Iterating over the array:\n",
      "0 1 2 3 4 5 6 7 8 9 10 11 "
     ]
    }
   ],
   "source": [
    "#Q20\n",
    "arr = np.arange(12).reshape(3,4)\n",
    "print(\"3x4 Array:\")\n",
    "print(arr)\n",
    "print(\"Iterating over the array:\")\n",
    "for x in np.nditer(arr):\n",
    "    print(x, end=\" \") "
   ]
  },
  {
   "cell_type": "code",
   "execution_count": 9,
   "id": "c15749e5-36c6-4fae-8078-034bb4dca55d",
   "metadata": {},
   "outputs": [
    {
     "name": "stdout",
     "output_type": "stream",
     "text": [
      "Length 10 with values evenly distributed between 5 and 50:\n",
      "[10.   19.75 29.5  39.25 49.  ]\n"
     ]
    }
   ],
   "source": [
    "#Q21\n",
    "arr = np.linspace(10,49,5)\n",
    "print(\"Length 10 with values evenly distributed between 5 and 50:\")\n",
    "print(arr)"
   ]
  },
  {
   "cell_type": "code",
   "execution_count": 15,
   "id": "f97dfa52-c921-4842-bcf3-6850ff7088f1",
   "metadata": {},
   "outputs": [
    {
     "name": "stdout",
     "output_type": "stream",
     "text": [
      "the original arr: [ 0  1  2  3  4  5  6  7  8  9 10 11 12 13 14 15 16 17 18 19 20]\n",
      "After changing the sign of the numbers in the range from 9 to 15:\n",
      "[  0   1   2   3   4   5   6   7   8  -9 -10 -11 -12 -13 -14 -15  16  17\n",
      "  18  19  20]\n"
     ]
    }
   ],
   "source": [
    "#Q22\n",
    "arr = np.arange(21)\n",
    "print(\"the original arr:\",arr )\n",
    "arr[(arr>=9)&(arr<=15)] *=-1\n",
    "print(\"After changing the sign of the numbers in the range from 9 to 15:\")\n",
    "print(arr) "
   ]
  },
  {
   "cell_type": "code",
   "execution_count": 38,
   "id": "7eeccdcf-71ab-4cc8-9504-6bbb5a967fa8",
   "metadata": {},
   "outputs": [
    {
     "name": "stdout",
     "output_type": "stream",
     "text": [
      "[9 0 1 7 1]\n"
     ]
    }
   ],
   "source": [
    "#Q23\n",
    "arr = np.random.randint(0,11,5)\n",
    "print(arr)"
   ]
  },
  {
   "cell_type": "code",
   "execution_count": 44,
   "id": "aa20ad94-ee8c-4050-b2fa-da0f5210f1ce",
   "metadata": {},
   "outputs": [
    {
     "name": "stdout",
     "output_type": "stream",
     "text": [
      "the first array: [5 9 4 2]\n",
      "the secound array: [0 4 2 1]\n",
      "the result = [ 0 36  8  2]\n"
     ]
    }
   ],
   "source": [
    "#Q24\n",
    "x = np.array([5,9,4,2])\n",
    "print(\"the first array:\",x)\n",
    "y = np.random.randint(0,11,4)\n",
    "print(\"the secound array:\",y)\n",
    "res = x*y\n",
    "print(\"the result =\",res)"
   ]
  },
  {
   "cell_type": "code",
   "execution_count": 50,
   "id": "58167034-88de-474b-99bd-cf66ec537996",
   "metadata": {},
   "outputs": [
    {
     "name": "stdout",
     "output_type": "stream",
     "text": [
      "[[10 11 12 13]\n",
      " [14 15 16 17]\n",
      " [18 19 20 21]]\n"
     ]
    }
   ],
   "source": [
    "#Q25\n",
    "matrix = np.arange(10,22).reshape(3,4)\n",
    "print(matrix)"
   ]
  },
  {
   "cell_type": "code",
   "execution_count": 66,
   "id": "562262b0-d3da-4708-b654-f2d1032cf593",
   "metadata": {},
   "outputs": [
    {
     "name": "stdout",
     "output_type": "stream",
     "text": [
      "Original matrix:\n",
      "[[10 11 12 13]\n",
      " [14 15 16 17]\n",
      " [18 19 20 21]]\n",
      "Number of rows and columns of the said matrix:\n",
      "(3, 4)\n"
     ]
    }
   ],
   "source": [
    "#Q26\n",
    "m = np.arange(10,22).reshape(3,4)\n",
    "print(\"Original matrix:\")\n",
    "print(m)\n",
    "print(\"Number of rows and columns of the said matrix:\")\n",
    "print(m.shape) "
   ]
  },
  {
   "cell_type": "code",
   "execution_count": 68,
   "id": "f455e09c-6d57-424f-866d-72e6fcc5210a",
   "metadata": {},
   "outputs": [
    {
     "name": "stdout",
     "output_type": "stream",
     "text": [
      "[[1. 0. 0.]\n",
      " [0. 1. 0.]\n",
      " [0. 0. 1.]]\n"
     ]
    }
   ],
   "source": [
    "#Q27\n",
    "m = np.eye(3)\n",
    "print(m)"
   ]
  },
  {
   "cell_type": "code",
   "execution_count": 106,
   "id": "dcde2f19-93a0-44eb-9bc9-d6bd9f40c34c",
   "metadata": {},
   "outputs": [
    {
     "name": "stdout",
     "output_type": "stream",
     "text": [
      "[[1. 1. 1. 1. 1. 1. 1. 1. 1. 1.]\n",
      " [1. 0. 0. 0. 0. 0. 0. 0. 0. 1.]\n",
      " [1. 0. 0. 0. 0. 0. 0. 0. 0. 1.]\n",
      " [1. 0. 0. 0. 0. 0. 0. 0. 0. 1.]\n",
      " [1. 0. 0. 0. 0. 0. 0. 0. 0. 1.]\n",
      " [1. 0. 0. 0. 0. 0. 0. 0. 0. 1.]\n",
      " [1. 0. 0. 0. 0. 0. 0. 0. 0. 1.]\n",
      " [1. 0. 0. 0. 0. 0. 0. 0. 0. 1.]\n",
      " [1. 0. 0. 0. 0. 0. 0. 0. 0. 1.]\n",
      " [1. 1. 1. 1. 1. 1. 1. 1. 1. 1.]]\n"
     ]
    }
   ],
   "source": [
    "#Q28\n",
    "x = np.ones((10,10))\n",
    "x[1:-1,1:-1] = 0\n",
    "print(x)"
   ]
  },
  {
   "cell_type": "code",
   "execution_count": 92,
   "id": "a63187ac-ca74-41ef-b76a-d52e3e59c270",
   "metadata": {},
   "outputs": [
    {
     "name": "stdout",
     "output_type": "stream",
     "text": [
      "[[1 0 0 0 0]\n",
      " [0 2 0 0 0]\n",
      " [0 0 3 0 0]\n",
      " [0 0 0 4 0]\n",
      " [0 0 0 0 5]]\n"
     ]
    }
   ],
   "source": [
    "#Q29\n",
    "x = np.diag([1,2,3,4,5])\n",
    "print(x)"
   ]
  },
  {
   "cell_type": "code",
   "execution_count": 104,
   "id": "93ef3c74-7dec-4740-8324-d76ef6c0c533",
   "metadata": {},
   "outputs": [
    {
     "name": "stdout",
     "output_type": "stream",
     "text": [
      "[[0. 1. 0. 1.]\n",
      " [1. 0. 1. 0.]\n",
      " [0. 1. 0. 1.]\n",
      " [1. 0. 1. 0.]]\n"
     ]
    }
   ],
   "source": [
    "#Q30\n",
    "m = np.zeros((4,4))\n",
    "m[::2,1::2] = 1\n",
    "m[1::2 , ::2] = 1\n",
    "print(m)"
   ]
  },
  {
   "cell_type": "code",
   "execution_count": 108,
   "id": "c076e03f-89ce-4b3b-b10b-c0a00002aea6",
   "metadata": {},
   "outputs": [
    {
     "name": "stdout",
     "output_type": "stream",
     "text": [
      "[[[0.89390417 0.85715425 0.16508662]\n",
      "  [0.63233401 0.02048361 0.11673727]\n",
      "  [0.31636731 0.15791231 0.75897959]]\n",
      "\n",
      " [[0.81827536 0.34462449 0.3187988 ]\n",
      "  [0.11166123 0.08395314 0.71272594]\n",
      "  [0.5995434  0.05567368 0.47979728]]\n",
      "\n",
      " [[0.40167648 0.847979   0.71784918]\n",
      "  [0.60206405 0.55238382 0.9491024 ]\n",
      "  [0.98667333 0.33805405 0.23987468]]]\n"
     ]
    }
   ],
   "source": [
    "#Q31\n",
    "n = np.random.random((3,3,3))\n",
    "print(n)"
   ]
  },
  {
   "cell_type": "code",
   "execution_count": 118,
   "id": "e6574210-349c-421f-9456-b5a59e6c90b4",
   "metadata": {},
   "outputs": [
    {
     "name": "stdout",
     "output_type": "stream",
     "text": [
      "[[1 2]\n",
      " [3 4]]\n",
      "Sum of each column: [4 6]\n",
      "Sum of each row: [3 7]\n",
      "Sum of all: 10\n"
     ]
    }
   ],
   "source": [
    "#Q32\n",
    "arr = np.array([[1,2],[3,4]])\n",
    "print(arr)\n",
    "print(\"Sum of each column:\",np.sum(arr ,axis=0))\n",
    "print(\"Sum of each row:\",np.sum(arr ,axis=1))\n",
    "print(\"Sum of all:\",np.sum(arr))"
   ]
  },
  {
   "cell_type": "code",
   "execution_count": 120,
   "id": "6e893554-7f8e-4ca8-be9e-c35f179c36d0",
   "metadata": {},
   "outputs": [
    {
     "name": "stdout",
     "output_type": "stream",
     "text": [
      "36\n"
     ]
    }
   ],
   "source": [
    "#Q33\n",
    "arr = np.array([3,5])\n",
    "arr1 = np.array([2,6])\n",
    "print(np.dot(arr,arr1))"
   ]
  },
  {
   "cell_type": "code",
   "execution_count": 124,
   "id": "9e7219e2-2215-4535-a614-394b881c2053",
   "metadata": {},
   "outputs": [
    {
     "name": "stdout",
     "output_type": "stream",
     "text": [
      "[[ 2  3  3]\n",
      " [ 5  6  6]\n",
      " [ 8  9  9]\n",
      " [11 12 12]]\n"
     ]
    }
   ],
   "source": [
    "#Q34\n",
    "v = np.array([1,1,0])\n",
    "m = np.arange(1,13).reshape(4,3)\n",
    "res = v + m\n",
    "print(res)"
   ]
  },
  {
   "cell_type": "code",
   "execution_count": 4,
   "id": "fa75004d-bc47-46e8-9462-3e17a7e05ddc",
   "metadata": {},
   "outputs": [
    {
     "name": "stdout",
     "output_type": "stream",
     "text": [
      "Array saved successfully!\n"
     ]
    }
   ],
   "source": [
    "#Q35\n",
    "arr = np.array([[1, 2, 3], [4, 5, 6]])\n",
    "np.save('my_array.npy' , arr)\n",
    "print(\"Array saved successfully!\")"
   ]
  },
  {
   "cell_type": "code",
   "execution_count": 8,
   "id": "cd9a65a9-d1b4-42be-b08a-32ab04198be6",
   "metadata": {},
   "outputs": [
    {
     "name": "stdout",
     "output_type": "stream",
     "text": [
      "The array has been saved to 'my_array.npy'\n",
      "[1 2 3 4 5 6 7]\n"
     ]
    }
   ],
   "source": [
    "#Q36\n",
    "arr = np.array([1, 2, 3 ,4, 5, 6, 7])\n",
    "np.save('my_array.npy' , arr)\n",
    "print(\"The array has been saved to 'my_array.npy'\")\n",
    "loaded_arr = np.load('my_array.npy')\n",
    "print(loaded_arr)"
   ]
  },
  {
   "cell_type": "code",
   "execution_count": 30,
   "id": "02ec4e8c-17d2-40c2-a0d9-2f2d4110b3ee",
   "metadata": {},
   "outputs": [
    {
     "name": "stdout",
     "output_type": "stream",
     "text": [
      "Original Array:\n",
      "[[1 3 5]\n",
      " [2 4 6]]\n",
      "\n",
      "Loaded Array:\n",
      "[[1. 3. 5.]\n",
      " [2. 4. 6.]]\n"
     ]
    }
   ],
   "source": [
    "#Q37\n",
    "arr = np.array([[1,3,5],[2,4,6]])\n",
    "np.savetxt('my_arr.txt' , arr , fmt='%d')\n",
    "loaded_arr = np.loadtxt('my_arr.txt')\n",
    "print(\"Original Array:\")\n",
    "print(arr)\n",
    "print(\"\\nLoaded Array:\")\n",
    "print(loaded_arr)"
   ]
  },
  {
   "cell_type": "code",
   "execution_count": 32,
   "id": "7bed6a1b-cdcc-4229-b290-8798627b71e7",
   "metadata": {},
   "outputs": [
    {
     "name": "stdout",
     "output_type": "stream",
     "text": [
      "Array as bytes: b'\\n\\x00\\x00\\x00\\x14\\x00\\x00\\x00\\x1e\\x00\\x00\\x00(\\x00\\x00\\x002\\x00\\x00\\x00'\n",
      "Loaded array: [10 20 30 40 50]\n"
     ]
    }
   ],
   "source": [
    "#Q38\n",
    "arr = np.array([10, 20, 30, 40, 50], dtype='int32')\n",
    "arr_bytes = arr.tobytes()\n",
    "print(\"Array as bytes:\", arr_bytes)\n",
    "loaded_arr = np.frombuffer(arr_bytes , dtype='int32')\n",
    "print(\"Loaded array:\", loaded_arr)"
   ]
  },
  {
   "cell_type": "code",
   "execution_count": 34,
   "id": "470c6b35-8fa4-42c7-a2a2-6477a4aa7004",
   "metadata": {},
   "outputs": [
    {
     "name": "stdout",
     "output_type": "stream",
     "text": [
      "Original list: [1, 2, 6, 8, 9]\n",
      "Array: [1 2 6 8 9]\n",
      "Final list: [1, 2, 6, 8, 9]\n",
      "Are both lists equal? True\n"
     ]
    }
   ],
   "source": [
    "#Q39\n",
    "original_list = [1,2,6,8,9]\n",
    "arr = np.array(original_list)\n",
    "final_list = arr.tolist()\n",
    "are_equal = original_list == final_list\n",
    "print(\"Original list:\", original_list)\n",
    "print(\"Array:\", arr)\n",
    "print(\"Final list:\", final_list)\n",
    "print(\"Are both lists equal?\", are_equal)"
   ]
  },
  {
   "cell_type": "code",
   "execution_count": 46,
   "id": "1ffb0a22-f274-456a-b47f-4291e1ddf1a1",
   "metadata": {},
   "outputs": [
    {
     "name": "stdout",
     "output_type": "stream",
     "text": [
      "Requirement already satisfied: matplotlib in g:\\anaconda\\envs\\round33\\lib\\site-packages (3.10.5)\n",
      "Requirement already satisfied: contourpy>=1.0.1 in g:\\anaconda\\envs\\round33\\lib\\site-packages (from matplotlib) (1.3.3)\n",
      "Requirement already satisfied: cycler>=0.10 in g:\\anaconda\\envs\\round33\\lib\\site-packages (from matplotlib) (0.12.1)\n",
      "Requirement already satisfied: fonttools>=4.22.0 in g:\\anaconda\\envs\\round33\\lib\\site-packages (from matplotlib) (4.59.0)\n",
      "Requirement already satisfied: kiwisolver>=1.3.1 in g:\\anaconda\\envs\\round33\\lib\\site-packages (from matplotlib) (1.4.9)\n",
      "Requirement already satisfied: numpy>=1.23 in g:\\anaconda\\envs\\round33\\lib\\site-packages (from matplotlib) (2.2.5)\n",
      "Requirement already satisfied: packaging>=20.0 in g:\\anaconda\\envs\\round33\\lib\\site-packages (from matplotlib) (24.2)\n",
      "Requirement already satisfied: pillow>=8 in g:\\anaconda\\envs\\round33\\lib\\site-packages (from matplotlib) (11.3.0)\n",
      "Requirement already satisfied: pyparsing>=2.3.1 in g:\\anaconda\\envs\\round33\\lib\\site-packages (from matplotlib) (3.2.3)\n",
      "Requirement already satisfied: python-dateutil>=2.7 in g:\\anaconda\\envs\\round33\\lib\\site-packages (from matplotlib) (2.9.0.post0)\n",
      "Requirement already satisfied: six>=1.5 in g:\\anaconda\\envs\\round33\\lib\\site-packages (from python-dateutil>=2.7->matplotlib) (1.17.0)\n"
     ]
    }
   ],
   "source": [
    "!pip install matplotlib"
   ]
  },
  {
   "cell_type": "code",
   "execution_count": 47,
   "id": "a5732486-5e3d-4ac6-97fa-6851b16d9173",
   "metadata": {},
   "outputs": [
    {
     "name": "stdout",
     "output_type": "stream",
     "text": [
      "Plot the points using matplotlib:\n"
     ]
    },
    {
     "data": {
      "image/png": "[encoded data removed]",
      "text/plain": [
       "<Figure size 640x480 with 1 Axes>"
      ]
     },
     "metadata": {},
     "output_type": "display_data"
    }
   ],
   "source": [
    "#Q40\n",
    "import matplotlib.pyplot as plt\n",
    "x = np.arange(0 , 2 * np.pi , 0.2)\n",
    "y = np.sin(x)\n",
    "print(\"Plot the points using matplotlib:\")\n",
    "plt.plot(x, y)\n",
    "plt.show()"
   ]
  },
  {
   "cell_type": "code",
   "execution_count": 72,
   "id": "986f55ea-cf1e-4e7a-abf1-42f5859ece10",
   "metadata": {},
   "outputs": [
    {
     "name": "stdout",
     "output_type": "stream",
     "text": [
      "dtype: int32\n",
      "Type of first element: <class 'int'>\n"
     ]
    }
   ],
   "source": [
    "#Q41\n",
    "arr = np.array([1,6,8,7] , dtype='int32')\n",
    "print(\"dtype:\", arr.dtype)\n",
    "py_list = arr.tolist()\n",
    "print(\"Type of first element:\", type(py_list[0]))"
   ]
  },
  {
   "cell_type": "code",
   "execution_count": 78,
   "id": "d5d8a889-fc8d-4254-acb0-45b4965531df",
   "metadata": {},
   "outputs": [
    {
     "name": "stdout",
     "output_type": "stream",
     "text": [
      "Original matrix:\n",
      "[[1 2 0]\n",
      " [4 0 6]\n",
      " [7 8 9]]\n",
      "\n",
      "Updated matrix:\n",
      "[[ 6  7  0]\n",
      " [ 9  0  6]\n",
      " [12  8  9]]\n"
     ]
    }
   ],
   "source": [
    "#Q42\n",
    "matrix = np.array([\n",
    "    [1, 2, 0],\n",
    "    [4, 0, 6],\n",
    "    [7, 8, 9]\n",
    "])\n",
    "\n",
    "add_value = 5  \n",
    "rows, cols = matrix.shape\n",
    "result = matrix.copy()  \n",
    "\n",
    "for col in range(cols):     \n",
    "    stop = False             \n",
    "    for row in range(rows):  \n",
    "        if matrix[row, col] == 0:\n",
    "            stop = True      \n",
    "        if not stop:\n",
    "            result[row, col] += add_value\n",
    "\n",
    "print(\"Original matrix:\")\n",
    "print(matrix)\n",
    "\n",
    "print(\"\\nUpdated matrix:\")\n",
    "print(result)\n"
   ]
  },
  {
   "cell_type": "code",
   "execution_count": 84,
   "id": "6325186c-8097-4a3d-a517-eb4aa9d79fd3",
   "metadata": {},
   "outputs": [
    {
     "name": "stdout",
     "output_type": "stream",
     "text": [
      "The original array:  [[ 3.  2. nan  1.]\n",
      " [10. 12. 10.  9.]\n",
      " [ 5. nan  1. nan]]\n",
      "\n",
      "Find the missing data of the said array:\n",
      "[[False False  True False]\n",
      " [False False False False]\n",
      " [False  True False  True]]\n"
     ]
    }
   ],
   "source": [
    "#Q43\n",
    "arr = np.array([[3, 2, np.nan, 1],\n",
    "                 [10, 12, 10, 9],\n",
    "                 [5, np.nan, 1, np.nan]])\n",
    "print(\"The original array: \",arr)\n",
    "print(\"\\nFind the missing data of the said array:\")\n",
    "print(np.isnan(arr))"
   ]
  },
  {
   "cell_type": "code",
   "execution_count": 86,
   "id": "8679deeb-85b5-425f-9b75-7dbea670766d",
   "metadata": {},
   "outputs": [
    {
     "name": "stdout",
     "output_type": "stream",
     "text": [
      "[ True  True False]\n"
     ]
    }
   ],
   "source": [
    "#Q44\n",
    "num_1 = np.array([2,6.5,9.5555])\n",
    "num_2 = np.array([2,6.5,9.5556])\n",
    "print(num_1 == num_2)"
   ]
  },
  {
   "cell_type": "code",
   "execution_count": 94,
   "id": "82aedf6f-2761-487b-b69d-1934e07a194f",
   "metadata": {
    "scrolled": true
   },
   "outputs": [
    {
     "name": "stdout",
     "output_type": "stream",
     "text": [
      "One-dimensional array of single digit numbers:\n",
      "[0 1 2 3 4 5 6 7 8 9]\n",
      "\n",
      "One-dimensional array of two digit numbers:\n",
      "[10 11 12 13 14 15 16 17 18 19 20 21 22 23 24 25 26 27 28 29 30 31 32 33\n",
      " 34 35 36 37 38 39 40 41 42 43 44 45 46 47 48 49 50 51 52 53 54 55 56 57\n",
      " 58 59 60 61 62 63 64 65 66 67 68 69 70 71 72 73 74 75 76 77 78 79 80 81\n",
      " 82 83 84 85 86 87 88 89 90 91 92 93 94 95 96 97 98 99]\n",
      "\n",
      "One-dimensional array of three digit numbers:\n",
      "[100 101 102 103 104 105 106 107 108 109 110 111 112 113 114 115 116 117\n",
      " 118 119 120 121 122 123 124 125 126 127 128 129 130 131 132 133 134 135\n",
      " 136 137 138 139 140 141 142 143 144 145 146 147 148 149 150 151 152 153\n",
      " 154 155 156 157 158 159 160 161 162 163 164 165 166 167 168 169 170 171\n",
      " 172 173 174 175 176 177 178 179 180 181 182 183 184 185 186 187 188 189\n",
      " 190 191 192 193 194 195 196 197 198 199 200 201 202 203 204 205 206 207\n",
      " 208 209 210 211 212 213 214 215 216 217 218 219 220 221 222 223 224 225\n",
      " 226 227 228 229 230 231 232 233 234 235 236 237 238 239 240 241 242 243\n",
      " 244 245 246 247 248 249 250 251 252 253 254 255 256 257 258 259 260 261\n",
      " 262 263 264 265 266 267 268 269 270 271 272 273 274 275 276 277 278 279\n",
      " 280 281 282 283 284 285 286 287 288 289 290 291 292 293 294 295 296 297\n",
      " 298 299 300 301 302 303 304 305 306 307 308 309 310 311 312 313 314 315\n",
      " 316 317 318 319 320 321 322 323 324 325 326 327 328 329 330 331 332 333\n",
      " 334 335 336 337 338 339 340 341 342 343 344 345 346 347 348 349 350 351\n",
      " 352 353 354 355 356 357 358 359 360 361 362 363 364 365 366 367 368 369\n",
      " 370 371 372 373 374 375 376 377 378 379 380 381 382 383 384 385 386 387\n",
      " 388 389 390 391 392 393 394 395 396 397 398 399 400 401 402 403 404 405\n",
      " 406 407 408 409 410 411 412 413 414 415 416 417 418 419 420 421 422 423\n",
      " 424 425 426 427 428 429 430 431 432 433 434 435 436 437 438 439 440 441\n",
      " 442 443 444 445 446 447 448 449 450 451 452 453 454 455 456 457 458 459\n",
      " 460 461 462 463 464 465 466 467 468 469 470 471 472 473 474 475 476 477\n",
      " 478 479 480 481 482 483 484 485 486 487 488 489 490 491 492 493 494 495\n",
      " 496 497 498 499 500 501 502 503 504 505 506 507 508 509 510 511 512 513\n",
      " 514 515 516 517 518 519 520 521 522 523 524 525 526 527 528 529 530 531\n",
      " 532 533 534 535 536 537 538 539 540 541 542 543 544 545 546 547 548 549\n",
      " 550 551 552 553 554 555 556 557 558 559 560 561 562 563 564 565 566 567\n",
      " 568 569 570 571 572 573 574 575 576 577 578 579 580 581 582 583 584 585\n",
      " 586 587 588 589 590 591 592 593 594 595 596 597 598 599 600 601 602 603\n",
      " 604 605 606 607 608 609 610 611 612 613 614 615 616 617 618 619 620 621\n",
      " 622 623 624 625 626 627 628 629 630 631 632 633 634 635 636 637 638 639\n",
      " 640 641 642 643 644 645 646 647 648 649 650 651 652 653 654 655 656 657\n",
      " 658 659 660 661 662 663 664 665 666 667 668 669 670 671 672 673 674 675\n",
      " 676 677 678 679 680 681 682 683 684 685 686 687 688 689 690 691 692 693\n",
      " 694 695 696 697 698 699 700 701 702 703 704 705 706 707 708 709 710 711\n",
      " 712 713 714 715 716 717 718 719 720 721 722 723 724 725 726 727 728 729\n",
      " 730 731 732 733 734 735 736 737 738 739 740 741 742 743 744 745 746 747\n",
      " 748 749 750 751 752 753 754 755 756 757 758 759 760 761 762 763 764 765\n",
      " 766 767 768 769 770 771 772 773 774 775 776 777 778 779 780 781 782 783\n",
      " 784 785 786 787 788 789 790 791 792 793 794 795 796 797 798 799 800 801\n",
      " 802 803 804 805 806 807 808 809 810 811 812 813 814 815 816 817 818 819\n",
      " 820 821 822 823 824 825 826 827 828 829 830 831 832 833 834 835 836 837\n",
      " 838 839 840 841 842 843 844 845 846 847 848 849 850 851 852 853 854 855\n",
      " 856 857 858 859 860 861 862 863 864 865 866 867 868 869 870 871 872 873\n",
      " 874 875 876 877 878 879 880 881 882 883 884 885 886 887 888 889 890 891\n",
      " 892 893 894 895 896 897 898 899 900 901 902 903 904 905 906 907 908 909\n",
      " 910 911 912 913 914 915 916 917 918 919 920 921 922 923 924 925 926 927\n",
      " 928 929 930 931 932 933 934 935 936 937 938 939 940 941 942 943 944 945\n",
      " 946 947 948 949 950 951 952 953 954 955 956 957 958 959 960 961 962 963\n",
      " 964 965 966 967 968 969 970 971 972 973 974 975 976 977 978 979 980 981\n",
      " 982 983 984 985 986 987 988 989 990 991 992 993 994 995 996 997 998 999]\n"
     ]
    }
   ],
   "source": [
    "#Q45\n",
    "num_1 = np.arange(0,10)\n",
    "print(\"One-dimensional array of single digit numbers:\") \n",
    "print(num_1)\n",
    "num_2 = np.arange(10,100)\n",
    "print(\"\\nOne-dimensional array of two digit numbers:\") \n",
    "print(num_2)\n",
    "num_3 = np.arange(100,1000)\n",
    "print(\"\\nOne-dimensional array of three digit numbers:\") \n",
    "print(num_3)"
   ]
  },
  {
   "cell_type": "code",
   "execution_count": 96,
   "id": "40ca8ea4-1236-4244-9910-238338997edc",
   "metadata": {},
   "outputs": [
    {
     "name": "stdout",
     "output_type": "stream",
     "text": [
      "Create an array of shape (15,10):\n",
      "Command-1\n",
      "[[  1   2   3   4   5   6   7   8   9  10]\n",
      " [ 11  12  13  14  15  16  17  18  19  20]\n",
      " [ 21  22  23  24  25  26  27  28  29  30]\n",
      " [ 31  32  33  34  35  36  37  38  39  40]\n",
      " [ 41  42  43  44  45  46  47  48  49  50]\n",
      " [ 51  52  53  54  55  56  57  58  59  60]\n",
      " [ 61  62  63  64  65  66  67  68  69  70]\n",
      " [ 71  72  73  74  75  76  77  78  79  80]\n",
      " [ 81  82  83  84  85  86  87  88  89  90]\n",
      " [ 91  92  93  94  95  96  97  98  99 100]\n",
      " [101 102 103 104 105 106 107 108 109 110]\n",
      " [111 112 113 114 115 116 117 118 119 120]\n",
      " [121 122 123 124 125 126 127 128 129 130]\n",
      " [131 132 133 134 135 136 137 138 139 140]\n",
      " [141 142 143 144 145 146 147 148 149 150]]\n"
     ]
    }
   ],
   "source": [
    "#Q46\n",
    "print(\"Create an array of shape (15,10):\") \n",
    "print(\"Command-1\")\n",
    "print(np.arange(1, 151).reshape(15, 10)) "
   ]
  },
  {
   "cell_type": "code",
   "execution_count": 100,
   "id": "9be274e0-32d0-4e93-b670-09f040ca97df",
   "metadata": {},
   "outputs": [
    {
     "name": "stdout",
     "output_type": "stream",
     "text": [
      "[0.77132064 0.02075195 0.63364823 0.74880388 0.49850701 0.22479665\n",
      " 0.19806286 0.76053071 0.16911084 0.08833981 0.68535982 0.95339335\n",
      " 0.00394827 0.51219226 0.81262096 0.61252607 0.72175532 0.29187607\n",
      " 0.91777412 0.71457578 0.54254437 0.14217005 0.37334076 0.67413362\n",
      " 0.44183317 0.43401399 0.61776698 0.51313824 0.65039718 0.60103895\n",
      " 0.8052232  0.52164715 0.90864888 0.31923609 0.09045935 0.30070006\n",
      " 0.11398436 0.82868133 0.04689632 0.62628715]\n"
     ]
    }
   ],
   "source": [
    "#Q47\n",
    "np.random.seed(10)\n",
    "print(np.random.rand(40))"
   ]
  },
  {
   "cell_type": "code",
   "execution_count": 108,
   "id": "df4f30e0-f6c9-44c5-b119-775a6eaeb373",
   "metadata": {},
   "outputs": [
    {
     "name": "stdout",
     "output_type": "stream",
     "text": [
      "[3 1 2 5 1]\n",
      "[4 3 5 1 2]\n",
      "[4 4 4 3 4]\n",
      "[4 1 3 0 6]\n"
     ]
    }
   ],
   "source": [
    "#Q48\n",
    "print(np.random.choice(7, 5))\n",
    "print(np.random.choice(7, 5, replace=False))\n",
    "print(np.random.choice(7, 5, p=[0.1, 0.2, 0, 0.2, 0.4, 0, 0.1]))\n",
    "print(np.random.choice(7, 5, replace=False, p=[0.1, 0.2, 0, 0.2, 0.4, 0, 0.1]))   \n"
   ]
  },
  {
   "cell_type": "code",
   "execution_count": 112,
   "id": "dedd6618-0519-48e1-9f95-cb0d499e3fe4",
   "metadata": {},
   "outputs": [
    {
     "name": "stdout",
     "output_type": "stream",
     "text": [
      "Original array:\n",
      "[[ 0  1  2  3]\n",
      " [ 4  5  6  7]\n",
      " [ 8  9 10 11]\n",
      " [12 13 14 15]]\n",
      "[[12 13 14 15]\n",
      " [ 4  5  6  7]\n",
      " [ 8  9 10 11]\n",
      " [ 0  1  2  3]]\n"
     ]
    }
   ],
   "source": [
    "#Q49\n",
    "nums = np.arange(16, dtype='int').reshape(-1, 4)\n",
    "print(\"Original array:\")\n",
    "print(nums)\n",
    "nums[[0,-1],:] = nums[[-1,0],:]\n",
    "print(nums) \n"
   ]
  },
  {
   "cell_type": "code",
   "execution_count": null,
   "id": "d7f6fd6b-c093-4a02-a63d-cef202aaec88",
   "metadata": {},
   "outputs": [],
   "source": []
  }
 ],
 "metadata": {
  "kernelspec": {
   "display_name": "Python [conda env:round33]",
   "language": "python",
   "name": "conda-env-round33-py"
  },
  "language_info": {
   "codemirror_mode": {
    "name": "ipython",
    "version": 3
   },
   "file_extension": ".py",
   "mimetype": "text/x-python",
   "name": "python",
   "nbconvert_exporter": "python",
   "pygments_lexer": "ipython3",
   "version": "3.13.2"
  }
 },
 "nbformat": 4,
 "nbformat_minor": 5
}
